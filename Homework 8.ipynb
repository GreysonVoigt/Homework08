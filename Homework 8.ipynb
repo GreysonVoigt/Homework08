{
 "cells": [
  {
   "cell_type": "markdown",
   "metadata": {},
   "source": [
    "# Homework 8: Magnetization, Energy in the Ising Model\n",
    "\n",
    "Physics 177, Spring 2017 (Prof. Tanedo)  \n",
    "Due: Friday, June 16    \n",
    "\n",
    "*Greyson Voigt*"
   ]
  },
  {
   "cell_type": "markdown",
   "metadata": {},
   "source": [
    "# Problem 0\n",
    "\n",
    "Please be sure to fill out:\n",
    "1. The course survey (e-mailed directly to you; e-mail Prof. Tanedo if you have not received this!)\n",
    "2. iEval course evaluation (http://ieval.ucr.edu)\n",
    "3. Sign up for a \"final interview\": https://doodle.com/poll/xyb7dgcupq9gwaqm"
   ]
  },
  {
   "cell_type": "markdown",
   "metadata": {},
   "source": [
    "# Problem 1"
   ]
  },
  {
   "cell_type": "markdown",
   "metadata": {
    "collapsed": true
   },
   "source": [
    "Code the Ising model to study the phase transition at $T_c\\approx 2.27$ (in units where $J = k_B = 1$). Use the Metropolis algorithm for Markov Chain Monte Carlo, as we set up in Lecture 18: https://github.com/Physics177-2017/Lec18-Ising-Model/blob/master/Lec18-IsingModel.ipynb\n",
    "\n",
    "**Make the following plots:**\n",
    "1. Magnetization as a function of temperature\n",
    "2. Energy as a function of temperature\n",
    "\n",
    "You may define magnetization as the total spin of the system (sum of the spins of each node). You may define the energy as the sum of $\\Delta E_i$ for each spin $i$. Recall that \n",
    "\n",
    "$$\\Delta E_i = -\\sum_{j} s_is_j$$\n",
    "\n",
    "(Note: actually, you should define $E = \\sum_i \\Delta E_i/4$, but we don't care about the overall pre-factors, we just want to see the qualitative shapes of the plots.)\n",
    "\n",
    "**Guidelines**\n",
    "You should be able to get reasonable results for:\n",
    "* A $20\\times 20$ array.\n",
    "* Sampling 1000 temperature points between $T=1$ and $T=4$\n",
    "* Allowing 2000 Monte Carlo steps to draw a sample.\n",
    "\n",
    "*Pro-tip:* One way to improve your calculations is to let your Monte Carlo \"equilibrate\" before recording data. In other words, your Markov Chain algorithm should be:\n",
    "\n",
    "1. Pick a random configuration\n",
    "2. Run for 2000 steps (without recording data)\n",
    "3. Perform your Markov Chain algorithm as usual, using the configuration at the end of step 2 as your initial configuration.\n",
    "\n",
    "\n",
    "Code this up on your own, you may use the code from Lecture 18 as a starting point. \n",
    "\n",
    "The *answers* are available in a notebook written by Rajesh Singh:\n",
    "http://rajeshrinet.github.io/blog/2014/ising-model/\n",
    "... you may use that notebook (in particular, the plots) as a guideline for what your code should produce. "
   ]
  },
  {
   "cell_type": "code",
   "execution_count": 127,
   "metadata": {
    "collapsed": true
   },
   "outputs": [],
   "source": [
    "import numpy as np\n",
    "import matplotlib.pyplot as plt\n",
    "from random import *\n",
    "\n",
    "N = 20\n",
    "N_trials = 2000"
   ]
  },
  {
   "cell_type": "code",
   "execution_count": 143,
   "metadata": {
    "collapsed": false
   },
   "outputs": [
    {
     "name": "stdout",
     "output_type": "stream",
     "text": [
      "[[ 1.  1.  1.  1. -1.  1.  1. -1. -1.  1.  1.  1. -1. -1.  1.  1. -1. -1.\n",
      "  -1.  1.]\n",
      " [ 1. -1. -1.  1. -1.  1. -1.  1.  1. -1. -1. -1. -1. -1. -1.  1. -1. -1.\n",
      "   1. -1.]\n",
      " [ 1. -1.  1. -1.  1.  1.  1. -1. -1. -1.  1.  1. -1.  1.  1.  1. -1. -1.\n",
      "   1.  1.]\n",
      " [-1. -1. -1. -1.  1. -1.  1.  1. -1.  1. -1. -1.  1. -1. -1. -1.  1. -1.\n",
      "   1. -1.]\n",
      " [-1.  1. -1. -1.  1.  1.  1.  1. -1. -1. -1. -1.  1. -1.  1. -1. -1.  1.\n",
      "  -1.  1.]\n",
      " [ 1.  1. -1.  1. -1.  1. -1.  1. -1.  1. -1. -1. -1. -1.  1. -1. -1.  1.\n",
      "  -1.  1.]\n",
      " [-1.  1.  1. -1. -1. -1. -1.  1.  1. -1. -1. -1.  1. -1. -1. -1. -1. -1.\n",
      "  -1. -1.]\n",
      " [-1.  1.  1.  1. -1.  1. -1. -1.  1.  1.  1. -1. -1. -1.  1. -1.  1. -1.\n",
      "   1.  1.]\n",
      " [ 1. -1. -1. -1. -1.  1. -1.  1.  1.  1.  1. -1.  1. -1.  1. -1. -1.  1.\n",
      "  -1.  1.]\n",
      " [ 1.  1. -1. -1.  1. -1.  1. -1. -1.  1.  1.  1.  1. -1.  1. -1. -1. -1.\n",
      "   1.  1.]\n",
      " [-1.  1. -1. -1.  1. -1.  1. -1.  1. -1.  1.  1.  1.  1. -1.  1. -1. -1.\n",
      "  -1.  1.]\n",
      " [-1.  1.  1. -1. -1. -1. -1.  1.  1. -1. -1. -1.  1. -1.  1.  1.  1.  1.\n",
      "   1.  1.]\n",
      " [ 1.  1. -1.  1.  1. -1. -1. -1.  1. -1. -1.  1.  1. -1.  1. -1. -1.  1.\n",
      "  -1.  1.]\n",
      " [-1. -1.  1.  1.  1.  1. -1.  1.  1. -1.  1. -1.  1. -1.  1. -1.  1. -1.\n",
      "   1. -1.]\n",
      " [ 1. -1. -1.  1. -1. -1.  1. -1. -1.  1.  1.  1. -1.  1.  1.  1.  1.  1.\n",
      "  -1. -1.]\n",
      " [-1. -1. -1.  1.  1.  1. -1.  1.  1. -1.  1. -1. -1.  1. -1.  1. -1. -1.\n",
      "  -1.  1.]\n",
      " [ 1. -1. -1. -1. -1.  1.  1. -1. -1. -1.  1. -1. -1.  1.  1. -1.  1. -1.\n",
      "  -1. -1.]\n",
      " [ 1. -1. -1.  1.  1. -1.  1. -1. -1.  1.  1. -1.  1. -1. -1.  1. -1. -1.\n",
      "   1. -1.]\n",
      " [-1.  1. -1. -1.  1. -1.  1. -1. -1.  1. -1.  1. -1.  1. -1. -1.  1.  1.\n",
      "   1. -1.]\n",
      " [-1.  1.  1.  1.  1. -1. -1. -1. -1.  1.  1.  1. -1.  1. -1.  1. -1.  1.\n",
      "  -1.  1.]]\n"
     ]
    }
   ],
   "source": [
    "grid = np.zeros((N, N))\n",
    "\n",
    "for i in range(N):\n",
    "    for j in range(N):\n",
    "        grid[i][j] = 2*randint(0,1) - 1\n",
    "print(grid)"
   ]
  },
  {
   "cell_type": "code",
   "execution_count": 155,
   "metadata": {
    "collapsed": true
   },
   "outputs": [],
   "source": [
    "def metroMC(start,B):\n",
    "    for i in range(N**2):\n",
    "        x = randint(0,1)\n",
    "        y = randint(0,1)\n",
    "        z = start[x,y]\n",
    "        adj = start[(x+1)%N,y]+start[(x-1)%N,y]+start[x,(y+1)%N]+start[x,(y-1)%N]\n",
    "        dE=.5*z*adj\n",
    "        if dE < 0:\n",
    "            z = -z\n",
    "        else:\n",
    "            if random() < np.exp(B*dE):\n",
    "                z = -z\n",
    "        start[x,y]=z\n",
    "    return start"
   ]
  },
  {
   "cell_type": "code",
   "execution_count": 150,
   "metadata": {
    "collapsed": false
   },
   "outputs": [],
   "source": [
    "def Mag(start):\n",
    "    spin = 0\n",
    "    for i in range(N):\n",
    "        for j in range(N):\n",
    "            spin += start[i,j]\n",
    "    return spin"
   ]
  },
  {
   "cell_type": "code",
   "execution_count": 146,
   "metadata": {
    "collapsed": false
   },
   "outputs": [],
   "source": [
    "def Energy(start):\n",
    "    EnergySum = 0\n",
    "    for x in range(N):\n",
    "        for y in range(N):\n",
    "            z = start[x,y]\n",
    "            adj = start[(x+1)%N,y]+start[(x-1)%N,y]+start[x,(y+1)%N]+start[x,(y-1)%N]\n",
    "            EnergySum += -z*adj\n",
    "    return EnergySum"
   ]
  },
  {
   "cell_type": "code",
   "execution_count": null,
   "metadata": {
    "collapsed": true
   },
   "outputs": [],
   "source": []
  },
  {
   "cell_type": "code",
   "execution_count": 156,
   "metadata": {
    "collapsed": false
   },
   "outputs": [],
   "source": [
    "T = np.linspace(1,4,1000)\n",
    "EnV = np.zeros(1000)\n",
    "SpinV = np.zeros(1000)\n",
    "for num in range(1000):\n",
    "    En = 0\n",
    "    M = 0\n",
    "    for i in range(N_trials):\n",
    "        metroMC(grid,1/T[num])\n",
    "    for i in range(N_trials):\n",
    "        metroMC(grid,1/T[num])\n",
    "        newEn = Energy(grid)\n",
    "        newMag = Mag(grid)\n",
    "        En += newEn\n",
    "        M += newMag\n",
    "        EnV[num] = En/(N_trials*(N**2))\n",
    "        SpinV[num] = M/(N_trials*(N**2))"
   ]
  },
  {
   "cell_type": "code",
   "execution_count": 159,
   "metadata": {
    "collapsed": false
   },
   "outputs": [
    {
     "data": {
      "image/png": "[encoded data removed]",
      "text/plain": [
       "<matplotlib.figure.Figure at 0x25b6d8f33c8>"
      ]
     },
     "metadata": {},
     "output_type": "display_data"
    }
   ],
   "source": [
    "plt.plot(T, EnV,\"o\");\n",
    "plt.xlabel(\"Temperature\");\n",
    "plt.ylabel(\"Energy\");\n",
    "\n",
    "plt.show()"
   ]
  },
  {
   "cell_type": "code",
   "execution_count": 158,
   "metadata": {
    "collapsed": false
   },
   "outputs": [
    {
     "data": {
      "image/png": "[encoded data removed]",
      "text/plain": [
       "<matplotlib.figure.Figure at 0x25b6d9805c0>"
      ]
     },
     "metadata": {},
     "output_type": "display_data"
    }
   ],
   "source": [
    "plt.plot(T,SpinV,\"o\");\n",
    "plt.xlabel(\"Temperature\");\n",
    "plt.ylabel(\"Magnetization\");\n",
    "plt.show()"
   ]
  },
  {
   "cell_type": "markdown",
   "metadata": {},
   "source": [
    "My plots look basically like random distributions. I'm not sure where I went wrong, though the graphs do seem to at least float around .26 and -.05 respectively. There definitely doesn't seem to be anything special about T = 2.27"
   ]
  },
  {
   "cell_type": "code",
   "execution_count": null,
   "metadata": {
    "collapsed": true
   },
   "outputs": [],
   "source": []
  }
 ],
 "metadata": {
  "kernelspec": {
   "display_name": "Python 3",
   "language": "python",
   "name": "python3"
  },
  "language_info": {
   "codemirror_mode": {
    "name": "ipython",
    "version": 3
   },
   "file_extension": ".py",
   "mimetype": "text/x-python",
   "name": "python",
   "nbconvert_exporter": "python",
   "pygments_lexer": "ipython3",
   "version": "3.6.0"
  }
 },
 "nbformat": 4,
 "nbformat_minor": 2
}
